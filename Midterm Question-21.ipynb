{
 "cells": [
  {
   "cell_type": "markdown",
   "id": "b8ad1e1e",
   "metadata": {},
   "source": [
    "# Question No-21"
   ]
  },
  {
   "cell_type": "raw",
   "id": "vertical-warrior",
   "metadata": {},
   "source": [
    "A Caesar cipher is a very old cryptography scheme designed to hide a secret message from an enemy. It works by shifting each letter in a phrase by a set amount. For example, shifting the phrase \"the quick brown fox jumps over the lazy dog\" by 2 gives us the below cipher text.\n"
   ]
  },
  {
   "cell_type": "code",
   "execution_count": 1,
   "id": "4f35c317",
   "metadata": {},
   "outputs": [
    {
     "name": "stdout",
     "output_type": "stream",
     "text": [
      "Qpubup\n",
      "K nqxg DFCV!\n"
     ]
    }
   ],
   "source": [
    "def caesar(phrase, shift):\n",
    "    def shift_letter(letter, shift):\n",
    "        if letter.isalpha():  # Check if the character is a letter\n",
    "            start = ord('A') if letter.isupper() else ord('a')\n",
    "            # Find the position of the letter in the alphabet, apply shift and wrap around\n",
    "            shifted = (ord(letter) - start + shift) % 26 + start\n",
    "            return chr(shifted)\n",
    "        else:\n",
    "            # Return the character unchanged if it's not a letter\n",
    "            return letter\n",
    "\n",
    "    if not phrase:  # Base case: if the phrase is empty\n",
    "        return \"\"\n",
    "\n",
    "    # Recursive case: shift the first letter and process the rest of the string\n",
    "    return shift_letter(phrase[0], shift) + caesar(phrase[1:], shift)\n",
    "\n",
    "# Test the function\n",
    "print(caesar(\"Potato\", 1))  # Should print \"Qpubup\"\n",
    "print(caesar(\"I love BDAT!\", 2))  # Should print \"K nqxg DFCV!\"\n"
   ]
  },
  {
   "cell_type": "code",
   "execution_count": null,
   "id": "3f0d185b",
   "metadata": {},
   "outputs": [],
   "source": []
  }
 ],
 "metadata": {
  "kernelspec": {
   "display_name": "Python 3",
   "language": "python",
   "name": "python3"
  },
  "language_info": {
   "codemirror_mode": {
    "name": "ipython",
    "version": 3
   },
   "file_extension": ".py",
   "mimetype": "text/x-python",
   "name": "python",
   "nbconvert_exporter": "python",
   "pygments_lexer": "ipython3",
   "version": "3.9.1"
  }
 },
 "nbformat": 4,
 "nbformat_minor": 5
}
